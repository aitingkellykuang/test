{
 "cells": [
  {
   "cell_type": "markdown",
   "metadata": {},
   "source": [
    "# Data Scraping Demonstration"
   ]
  },
  {
   "cell_type": "markdown",
   "metadata": {},
   "source": [
    "This notebook demonstrates how to scrape data from the website https://cryptocoincharts.info/."
   ]
  },
  {
   "cell_type": "code",
   "execution_count": 1,
   "metadata": {
    "collapsed": true
   },
   "outputs": [],
   "source": [
    "import requests\n",
    "import pandas as pd\n",
    "import numpy as np\n",
    "from bs4 import BeautifulSoup"
   ]
  },
  {
   "cell_type": "markdown",
   "metadata": {},
   "source": [
    "Firstly, let's read all the data in the HTML, and print out the first 300 characters."
   ]
  },
  {
   "cell_type": "code",
   "execution_count": 2,
   "metadata": {},
   "outputs": [],
   "source": [
    "webdata = requests.get('https://cryptocoincharts.info/')"
   ]
  },
  {
   "cell_type": "code",
   "execution_count": 3,
   "metadata": {},
   "outputs": [
    {
     "name": "stdout",
     "output_type": "stream",
     "text": [
      "<!DOCTYPE html>\n",
      "<html lang=\"en\">\n",
      "\t<head>\n",
      "\t\t<title>Bitcoin and Altcoin price charts / graphs</title>\n",
      "\t\t<meta http-equiv=\"Content-Type\" content=\"text/html; charset=utf-8\" />\t\t\n",
      "\t\t<link rel=\"apple-touch-icon\" sizes=\"180x180\" href=\"/img/favicons/apple-touch-icon.png\">\n",
      "\t\t<link rel=\"icon\" type=\"image/png\" \n"
     ]
    }
   ],
   "source": [
    "print(webdata.text[0:300])"
   ]
  },
  {
   "cell_type": "markdown",
   "metadata": {},
   "source": [
    "## Parsing HTML"
   ]
  },
  {
   "cell_type": "code",
   "execution_count": 4,
   "metadata": {
    "collapsed": true
   },
   "outputs": [],
   "source": [
    "soup = BeautifulSoup(webdata.text, 'html.parser')"
   ]
  },
  {
   "cell_type": "markdown",
   "metadata": {},
   "source": [
    "## Example : Extract all the names"
   ]
  },
  {
   "cell_type": "markdown",
   "metadata": {},
   "source": [
    "Before extracting all the data, let's extract the name of cryptocurrency to demonstrate how my method works.\n",
    "\n",
    "After looking into the source code, I noticed taht each name has the\n",
    "following format: \n",
    "\n",
    "$<a  href=\"/coins/show/btc\" class=\"link\">Bitcoin</a>$"
   ]
  },
  {
   "cell_type": "code",
   "execution_count": 5,
   "metadata": {},
   "outputs": [
    {
     "data": {
      "text/plain": [
       "['Bitcoin',\n",
       " 'Ether',\n",
       " 'Ripple',\n",
       " 'Bitcoin Cash',\n",
       " 'EOS',\n",
       " 'Stellar Lumens',\n",
       " 'Litecoin',\n",
       " 'Cardano',\n",
       " 'Tether',\n",
       " 'Monero']"
      ]
     },
     "execution_count": 5,
     "metadata": {},
     "output_type": "execute_result"
    }
   ],
   "source": [
    "# Use the pattern of names, we can extract all lines start with 'a' and has the class 'link\n",
    "raw_names = soup.find_all('a', attrs={'class':'link'})\n",
    "names = raw_names[2:102] # there's 100 names in a page\n",
    "\n",
    "all_names = []\n",
    "for name in names:\n",
    "    all_names.append(name.text)\n",
    "# let's check if we extracted the names\n",
    "all_names[:10]"
   ]
  },
  {
   "cell_type": "code",
   "execution_count": 6,
   "metadata": {},
   "outputs": [
    {
     "data": {
      "text/plain": [
       "100"
      ]
     },
     "execution_count": 6,
     "metadata": {},
     "output_type": "execute_result"
    }
   ],
   "source": [
    "#Check if there's 100 name\n",
    "len(all_names)"
   ]
  },
  {
   "cell_type": "markdown",
   "metadata": {},
   "source": [
    "Yes, the it's confirmed that there's 100 names and we successfully extract all the names."
   ]
  },
  {
   "cell_type": "markdown",
   "metadata": {},
   "source": [
    "## Extract All Variables"
   ]
  },
  {
   "cell_type": "markdown",
   "metadata": {},
   "source": [
    "After looking into the soucecode, I found each cryptocurrency has the pattern:\n",
    "\n",
    "<img src = 'pattern.png'>\n",
    "\n",
    "Using the pattern, we can extract all the variables.\n"
   ]
  },
  {
   "cell_type": "code",
   "execution_count": 7,
   "metadata": {},
   "outputs": [],
   "source": [
    "mysoup = soup.find_all('td')\n",
    "prices_raw = []\n",
    "volumnes_24h_raw = []\n",
    "marketcups_raw = []\n",
    "supplies_raw = []\n",
    "market_shares_raw = []\n",
    "for i in range(100):\n",
    "    price = mysoup[3+12*i].text[12:-11]\n",
    "    volumne_24h = mysoup[6 + 12*i].text\n",
    "    marketcup = mysoup[7 + 12 *i].text\n",
    "    supply = mysoup[8 + 12 *i].text\n",
    "    market_share = mysoup[9 + 12 * i].text[:-1]\n",
    "    prices_raw.append(price)\n",
    "    volumnes_24h_raw.append(volumne_24h)\n",
    "    marketcups_raw.append(marketcup)\n",
    "    supplies_raw.append(supply)\n",
    "    market_shares_raw.append(market_share)"
   ]
  },
  {
   "cell_type": "code",
   "execution_count": 8,
   "metadata": {},
   "outputs": [],
   "source": [
    "data_raw_keys = {'Names': all_names,\n",
    "        'Price': prices_raw,\n",
    "       '24h_Volumn': volumnes_24h_raw,\n",
    "       'Marketcap': marketcups_raw,\n",
    "       'Supply': supplies_raw,\n",
    "       'Market_Share': market_shares_raw}"
   ]
  },
  {
   "cell_type": "code",
   "execution_count": 9,
   "metadata": {
    "collapsed": true
   },
   "outputs": [],
   "source": [
    "data_page_1_raw = pd.DataFrame(data = data_raw_keys)\n",
    "cols = ['Names', 'Price','24h_Volumn','Marketcap','Supply','Market_Share']\n",
    "data_page_1_raw = data_page_1_raw[cols]"
   ]
  },
  {
   "cell_type": "code",
   "execution_count": 10,
   "metadata": {},
   "outputs": [
    {
     "data": {
      "text/html": [
       "<div>\n",
       "<style>\n",
       "    .dataframe thead tr:only-child th {\n",
       "        text-align: right;\n",
       "    }\n",
       "\n",
       "    .dataframe thead th {\n",
       "        text-align: left;\n",
       "    }\n",
       "\n",
       "    .dataframe tbody tr th {\n",
       "        vertical-align: top;\n",
       "    }\n",
       "</style>\n",
       "<table border=\"1\" class=\"dataframe\">\n",
       "  <thead>\n",
       "    <tr style=\"text-align: right;\">\n",
       "      <th></th>\n",
       "      <th>Names</th>\n",
       "      <th>Price</th>\n",
       "      <th>24h_Volumn</th>\n",
       "      <th>Marketcap</th>\n",
       "      <th>Supply</th>\n",
       "      <th>Market_Share</th>\n",
       "    </tr>\n",
       "  </thead>\n",
       "  <tbody>\n",
       "    <tr>\n",
       "      <th>0</th>\n",
       "      <td>Bitcoin</td>\n",
       "      <td>$7,364</td>\n",
       "      <td>$803,468,904</td>\n",
       "      <td>$127,027,617,038</td>\n",
       "      <td>17,250,187 BTC</td>\n",
       "      <td>51</td>\n",
       "    </tr>\n",
       "    <tr>\n",
       "      <th>1</th>\n",
       "      <td>Ether</td>\n",
       "      <td>$302</td>\n",
       "      <td>$418,767,681</td>\n",
       "      <td>$28,977,184,852</td>\n",
       "      <td>101,765,204 ETH</td>\n",
       "      <td>12</td>\n",
       "    </tr>\n",
       "    <tr>\n",
       "      <th>2</th>\n",
       "      <td>Ripple</td>\n",
       "      <td>$0.3341</td>\n",
       "      <td>$124,228,530</td>\n",
       "      <td>$13,056,340,384</td>\n",
       "      <td>39,650,153,121 XRP</td>\n",
       "      <td>5.21</td>\n",
       "    </tr>\n",
       "    <tr>\n",
       "      <th>3</th>\n",
       "      <td>Bitcoin Cash</td>\n",
       "      <td>$628</td>\n",
       "      <td>$225,743,243</td>\n",
       "      <td>$10,933,654,446</td>\n",
       "      <td>17,331,475 BCH</td>\n",
       "      <td>4.37</td>\n",
       "    </tr>\n",
       "    <tr>\n",
       "      <th>4</th>\n",
       "      <td>EOS</td>\n",
       "      <td>$6.45</td>\n",
       "      <td>$371,558,107</td>\n",
       "      <td>$5,892,052,569</td>\n",
       "      <td>906,245,118 EOS</td>\n",
       "      <td>2.35</td>\n",
       "    </tr>\n",
       "    <tr>\n",
       "      <th>5</th>\n",
       "      <td>Stellar Lumens</td>\n",
       "      <td>$0.2207</td>\n",
       "      <td>$14,307,514</td>\n",
       "      <td>$4,298,185,852</td>\n",
       "      <td>18,773,722,237 XLM</td>\n",
       "      <td>1.72</td>\n",
       "    </tr>\n",
       "    <tr>\n",
       "      <th>6</th>\n",
       "      <td>Litecoin</td>\n",
       "      <td>$65</td>\n",
       "      <td>$70,277,231</td>\n",
       "      <td>$3,979,669,801</td>\n",
       "      <td>58,154,754 LTC</td>\n",
       "      <td>1.59</td>\n",
       "    </tr>\n",
       "    <tr>\n",
       "      <th>7</th>\n",
       "      <td>Cardano</td>\n",
       "      <td>$0.1041</td>\n",
       "      <td>$15,854,442</td>\n",
       "      <td>$2,733,911,021</td>\n",
       "      <td>25,927,070,538 ADA</td>\n",
       "      <td>1.09</td>\n",
       "    </tr>\n",
       "    <tr>\n",
       "      <th>8</th>\n",
       "      <td>Tether</td>\n",
       "      <td>$0.9960</td>\n",
       "      <td>$5,003,645</td>\n",
       "      <td>$2,647,962,416</td>\n",
       "      <td>2,767,140,336 USDT</td>\n",
       "      <td>1.06</td>\n",
       "    </tr>\n",
       "    <tr>\n",
       "      <th>9</th>\n",
       "      <td>Monero</td>\n",
       "      <td>$120</td>\n",
       "      <td>$30,619,103</td>\n",
       "      <td>$2,278,009,280</td>\n",
       "      <td>16,379,415 XMR</td>\n",
       "      <td>0.91</td>\n",
       "    </tr>\n",
       "  </tbody>\n",
       "</table>\n",
       "</div>"
      ],
      "text/plain": [
       "            Names    Price    24h_Volumn         Marketcap  \\\n",
       "0         Bitcoin   $7,364  $803,468,904  $127,027,617,038   \n",
       "1           Ether     $302  $418,767,681   $28,977,184,852   \n",
       "2          Ripple  $0.3341  $124,228,530   $13,056,340,384   \n",
       "3    Bitcoin Cash     $628  $225,743,243   $10,933,654,446   \n",
       "4             EOS    $6.45  $371,558,107    $5,892,052,569   \n",
       "5  Stellar Lumens  $0.2207   $14,307,514    $4,298,185,852   \n",
       "6        Litecoin      $65   $70,277,231    $3,979,669,801   \n",
       "7         Cardano  $0.1041   $15,854,442    $2,733,911,021   \n",
       "8          Tether  $0.9960    $5,003,645    $2,647,962,416   \n",
       "9          Monero     $120   $30,619,103    $2,278,009,280   \n",
       "\n",
       "               Supply Market_Share  \n",
       "0      17,250,187 BTC           51  \n",
       "1     101,765,204 ETH           12  \n",
       "2  39,650,153,121 XRP         5.21  \n",
       "3      17,331,475 BCH         4.37  \n",
       "4     906,245,118 EOS         2.35  \n",
       "5  18,773,722,237 XLM         1.72  \n",
       "6      58,154,754 LTC         1.59  \n",
       "7  25,927,070,538 ADA         1.09  \n",
       "8  2,767,140,336 USDT         1.06  \n",
       "9      16,379,415 XMR         0.91  "
      ]
     },
     "execution_count": 10,
     "metadata": {},
     "output_type": "execute_result"
    }
   ],
   "source": [
    "data_page_1_raw.head(10)"
   ]
  },
  {
   "cell_type": "markdown",
   "metadata": {},
   "source": [
    "So far, we extract all the data from the website!\n",
    "\n",
    "Let's clean our data so we can export them into a csv file!"
   ]
  },
  {
   "cell_type": "markdown",
   "metadata": {},
   "source": [
    "## Data Cleanning"
   ]
  },
  {
   "cell_type": "code",
   "execution_count": 11,
   "metadata": {
    "collapsed": true
   },
   "outputs": [],
   "source": [
    "def take_dollar_sign(data):\n",
    "    \"\"\"Input a list or an array, the function takes away dollar sign \n",
    "    and convert data type from string to float, return a list\"\"\"\n",
    "    l = []\n",
    "    for item in data:\n",
    "        no_sign_and_comma = item.replace('$', '').replace(',','')\n",
    "        l.append(float(no_sign_and_comma))\n",
    "    return l"
   ]
  },
  {
   "cell_type": "code",
   "execution_count": 12,
   "metadata": {
    "collapsed": true
   },
   "outputs": [],
   "source": [
    "def take_string(data):\n",
    "    \"\"\"Input a list or an array, the function takes away strings, \n",
    "    convert data type from string to float, and return a list\"\"\"\n",
    "    no_str = []\n",
    "    for item in data:\n",
    "        no_comma = item.replace(',','')\n",
    "        no_strings = ''.join([i for i in item if i.isdigit()])\n",
    "        no_str.append(float(no_strings))\n",
    "    return no_str"
   ]
  },
  {
   "cell_type": "code",
   "execution_count": 13,
   "metadata": {},
   "outputs": [],
   "source": [
    "prices_clean = take_dollar_sign(prices_raw)\n",
    "volumnes_24h_clean = take_dollar_sign(volumnes_24h_raw)\n",
    "marketcups_clean = take_dollar_sign(market_shares_raw)\n",
    "supplies_clean = take_string(supplies_raw)"
   ]
  },
  {
   "cell_type": "code",
   "execution_count": 14,
   "metadata": {},
   "outputs": [],
   "source": [
    "data_clean_keys = {'Names': all_names,\n",
    "        'Price($)': prices_clean,\n",
    "       '24h_Volumn($)': volumnes_24h_clean,\n",
    "       'Marketcap($)': marketcups_clean,\n",
    "       'Supply': supplies_clean,\n",
    "       'Market_Share(%)': market_shares_raw}"
   ]
  },
  {
   "cell_type": "code",
   "execution_count": 15,
   "metadata": {},
   "outputs": [],
   "source": [
    "data_page_1_clean = pd.DataFrame(data = data_clean_keys)\n",
    "cols = ['Names', 'Price($)','24h_Volumn($)','Marketcap($)','Supply','Market_Share(%)']\n",
    "data_page_1_clean = data_page_1_clean[cols]"
   ]
  },
  {
   "cell_type": "code",
   "execution_count": 16,
   "metadata": {},
   "outputs": [
    {
     "data": {
      "text/html": [
       "<div>\n",
       "<style>\n",
       "    .dataframe thead tr:only-child th {\n",
       "        text-align: right;\n",
       "    }\n",
       "\n",
       "    .dataframe thead th {\n",
       "        text-align: left;\n",
       "    }\n",
       "\n",
       "    .dataframe tbody tr th {\n",
       "        vertical-align: top;\n",
       "    }\n",
       "</style>\n",
       "<table border=\"1\" class=\"dataframe\">\n",
       "  <thead>\n",
       "    <tr style=\"text-align: right;\">\n",
       "      <th></th>\n",
       "      <th>Names</th>\n",
       "      <th>Price($)</th>\n",
       "      <th>24h_Volumn($)</th>\n",
       "      <th>Marketcap($)</th>\n",
       "      <th>Supply</th>\n",
       "      <th>Market_Share(%)</th>\n",
       "    </tr>\n",
       "  </thead>\n",
       "  <tbody>\n",
       "    <tr>\n",
       "      <th>0</th>\n",
       "      <td>Bitcoin</td>\n",
       "      <td>7364.0000</td>\n",
       "      <td>803468904.0</td>\n",
       "      <td>51.00</td>\n",
       "      <td>1.725019e+07</td>\n",
       "      <td>51</td>\n",
       "    </tr>\n",
       "    <tr>\n",
       "      <th>1</th>\n",
       "      <td>Ether</td>\n",
       "      <td>302.0000</td>\n",
       "      <td>418767681.0</td>\n",
       "      <td>12.00</td>\n",
       "      <td>1.017652e+08</td>\n",
       "      <td>12</td>\n",
       "    </tr>\n",
       "    <tr>\n",
       "      <th>2</th>\n",
       "      <td>Ripple</td>\n",
       "      <td>0.3341</td>\n",
       "      <td>124228530.0</td>\n",
       "      <td>5.21</td>\n",
       "      <td>3.965015e+10</td>\n",
       "      <td>5.21</td>\n",
       "    </tr>\n",
       "    <tr>\n",
       "      <th>3</th>\n",
       "      <td>Bitcoin Cash</td>\n",
       "      <td>628.0000</td>\n",
       "      <td>225743243.0</td>\n",
       "      <td>4.37</td>\n",
       "      <td>1.733148e+07</td>\n",
       "      <td>4.37</td>\n",
       "    </tr>\n",
       "    <tr>\n",
       "      <th>4</th>\n",
       "      <td>EOS</td>\n",
       "      <td>6.4500</td>\n",
       "      <td>371558107.0</td>\n",
       "      <td>2.35</td>\n",
       "      <td>9.062451e+08</td>\n",
       "      <td>2.35</td>\n",
       "    </tr>\n",
       "    <tr>\n",
       "      <th>5</th>\n",
       "      <td>Stellar Lumens</td>\n",
       "      <td>0.2207</td>\n",
       "      <td>14307514.0</td>\n",
       "      <td>1.72</td>\n",
       "      <td>1.877372e+10</td>\n",
       "      <td>1.72</td>\n",
       "    </tr>\n",
       "    <tr>\n",
       "      <th>6</th>\n",
       "      <td>Litecoin</td>\n",
       "      <td>65.0000</td>\n",
       "      <td>70277231.0</td>\n",
       "      <td>1.59</td>\n",
       "      <td>5.815475e+07</td>\n",
       "      <td>1.59</td>\n",
       "    </tr>\n",
       "    <tr>\n",
       "      <th>7</th>\n",
       "      <td>Cardano</td>\n",
       "      <td>0.1041</td>\n",
       "      <td>15854442.0</td>\n",
       "      <td>1.09</td>\n",
       "      <td>2.592707e+10</td>\n",
       "      <td>1.09</td>\n",
       "    </tr>\n",
       "    <tr>\n",
       "      <th>8</th>\n",
       "      <td>Tether</td>\n",
       "      <td>0.9960</td>\n",
       "      <td>5003645.0</td>\n",
       "      <td>1.06</td>\n",
       "      <td>2.767140e+09</td>\n",
       "      <td>1.06</td>\n",
       "    </tr>\n",
       "    <tr>\n",
       "      <th>9</th>\n",
       "      <td>Monero</td>\n",
       "      <td>120.0000</td>\n",
       "      <td>30619103.0</td>\n",
       "      <td>0.91</td>\n",
       "      <td>1.637942e+07</td>\n",
       "      <td>0.91</td>\n",
       "    </tr>\n",
       "  </tbody>\n",
       "</table>\n",
       "</div>"
      ],
      "text/plain": [
       "            Names   Price($)  24h_Volumn($)  Marketcap($)        Supply  \\\n",
       "0         Bitcoin  7364.0000    803468904.0         51.00  1.725019e+07   \n",
       "1           Ether   302.0000    418767681.0         12.00  1.017652e+08   \n",
       "2          Ripple     0.3341    124228530.0          5.21  3.965015e+10   \n",
       "3    Bitcoin Cash   628.0000    225743243.0          4.37  1.733148e+07   \n",
       "4             EOS     6.4500    371558107.0          2.35  9.062451e+08   \n",
       "5  Stellar Lumens     0.2207     14307514.0          1.72  1.877372e+10   \n",
       "6        Litecoin    65.0000     70277231.0          1.59  5.815475e+07   \n",
       "7         Cardano     0.1041     15854442.0          1.09  2.592707e+10   \n",
       "8          Tether     0.9960      5003645.0          1.06  2.767140e+09   \n",
       "9          Monero   120.0000     30619103.0          0.91  1.637942e+07   \n",
       "\n",
       "  Market_Share(%)  \n",
       "0              51  \n",
       "1              12  \n",
       "2            5.21  \n",
       "3            4.37  \n",
       "4            2.35  \n",
       "5            1.72  \n",
       "6            1.59  \n",
       "7            1.09  \n",
       "8            1.06  \n",
       "9            0.91  "
      ]
     },
     "execution_count": 16,
     "metadata": {},
     "output_type": "execute_result"
    }
   ],
   "source": [
    "data_page_1_clean.head(10)"
   ]
  },
  {
   "cell_type": "markdown",
   "metadata": {},
   "source": [
    "Our data was cleaned! Let's export them!\n",
    "\n",
    "## Export Data"
   ]
  },
  {
   "cell_type": "code",
   "execution_count": 17,
   "metadata": {
    "collapsed": true
   },
   "outputs": [],
   "source": [
    "data_page_1_clean.to_csv('data_page_1_clean.csv', index = False, encoding = 'utf-8')"
   ]
  },
  {
   "cell_type": "markdown",
   "metadata": {},
   "source": [
    "Done and done!"
   ]
  }
 ],
 "metadata": {
  "kernelspec": {
   "display_name": "Python 3",
   "language": "python",
   "name": "python3"
  },
  "language_info": {
   "codemirror_mode": {
    "name": "ipython",
    "version": 3
   },
   "file_extension": ".py",
   "mimetype": "text/x-python",
   "name": "python",
   "nbconvert_exporter": "python",
   "pygments_lexer": "ipython3",
   "version": "3.6.1"
  }
 },
 "nbformat": 4,
 "nbformat_minor": 2
}
